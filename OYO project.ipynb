{
 "cells": [
  {
   "cell_type": "code",
   "execution_count": 2,
   "id": "661afab9",
   "metadata": {},
   "outputs": [],
   "source": [
    "import pandas as pd"
   ]
  },
  {
   "cell_type": "code",
   "execution_count": 4,
   "id": "d9697cd5",
   "metadata": {
    "scrolled": true
   },
   "outputs": [],
   "source": [
    "df=pd.read_parquet(\"oyodata.parquet\")"
   ]
  },
  {
   "cell_type": "code",
   "execution_count": 5,
   "id": "0d9e70ab",
   "metadata": {},
   "outputs": [
    {
     "data": {
      "text/html": [
       "<div>\n",
       "<style scoped>\n",
       "    .dataframe tbody tr th:only-of-type {\n",
       "        vertical-align: middle;\n",
       "    }\n",
       "\n",
       "    .dataframe tbody tr th {\n",
       "        vertical-align: top;\n",
       "    }\n",
       "\n",
       "    .dataframe thead th {\n",
       "        text-align: right;\n",
       "    }\n",
       "</style>\n",
       "<table border=\"1\" class=\"dataframe\">\n",
       "  <thead>\n",
       "    <tr style=\"text-align: right;\">\n",
       "      <th></th>\n",
       "      <th>country_code</th>\n",
       "      <th>brand</th>\n",
       "      <th>contract_type</th>\n",
       "      <th>leadtime_days</th>\n",
       "      <th>occupancy_current</th>\n",
       "      <th>occupancy_ly</th>\n",
       "      <th>vacation_1</th>\n",
       "      <th>vacation_2</th>\n",
       "      <th>vacation_3</th>\n",
       "      <th>is_covid_period</th>\n",
       "      <th>...</th>\n",
       "      <th>occ_delta7</th>\n",
       "      <th>occ_delta14</th>\n",
       "      <th>occ_delta30</th>\n",
       "      <th>day</th>\n",
       "      <th>month</th>\n",
       "      <th>year</th>\n",
       "      <th>weekday</th>\n",
       "      <th>weekofyear</th>\n",
       "      <th>occupancy</th>\n",
       "      <th>predicted</th>\n",
       "    </tr>\n",
       "  </thead>\n",
       "  <tbody>\n",
       "    <tr>\n",
       "      <th>0</th>\n",
       "      <td>14</td>\n",
       "      <td>1</td>\n",
       "      <td>1</td>\n",
       "      <td>366.0</td>\n",
       "      <td>0.0</td>\n",
       "      <td>0.081081</td>\n",
       "      <td>0.0</td>\n",
       "      <td>0.0</td>\n",
       "      <td>0.0</td>\n",
       "      <td>0.0</td>\n",
       "      <td>...</td>\n",
       "      <td>0.0</td>\n",
       "      <td>0.0</td>\n",
       "      <td>0.0</td>\n",
       "      <td>30</td>\n",
       "      <td>11</td>\n",
       "      <td>2023</td>\n",
       "      <td>3</td>\n",
       "      <td>48</td>\n",
       "      <td>0.038835</td>\n",
       "      <td>0.077052</td>\n",
       "    </tr>\n",
       "    <tr>\n",
       "      <th>1</th>\n",
       "      <td>14</td>\n",
       "      <td>1</td>\n",
       "      <td>1</td>\n",
       "      <td>365.0</td>\n",
       "      <td>0.0</td>\n",
       "      <td>0.081081</td>\n",
       "      <td>0.0</td>\n",
       "      <td>0.0</td>\n",
       "      <td>0.0</td>\n",
       "      <td>0.0</td>\n",
       "      <td>...</td>\n",
       "      <td>0.0</td>\n",
       "      <td>0.0</td>\n",
       "      <td>0.0</td>\n",
       "      <td>30</td>\n",
       "      <td>11</td>\n",
       "      <td>2023</td>\n",
       "      <td>3</td>\n",
       "      <td>48</td>\n",
       "      <td>0.038835</td>\n",
       "      <td>0.077052</td>\n",
       "    </tr>\n",
       "    <tr>\n",
       "      <th>2</th>\n",
       "      <td>14</td>\n",
       "      <td>1</td>\n",
       "      <td>1</td>\n",
       "      <td>364.0</td>\n",
       "      <td>0.0</td>\n",
       "      <td>0.081081</td>\n",
       "      <td>0.0</td>\n",
       "      <td>0.0</td>\n",
       "      <td>0.0</td>\n",
       "      <td>0.0</td>\n",
       "      <td>...</td>\n",
       "      <td>0.0</td>\n",
       "      <td>0.0</td>\n",
       "      <td>0.0</td>\n",
       "      <td>30</td>\n",
       "      <td>11</td>\n",
       "      <td>2023</td>\n",
       "      <td>3</td>\n",
       "      <td>48</td>\n",
       "      <td>0.038835</td>\n",
       "      <td>0.077052</td>\n",
       "    </tr>\n",
       "    <tr>\n",
       "      <th>3</th>\n",
       "      <td>14</td>\n",
       "      <td>1</td>\n",
       "      <td>1</td>\n",
       "      <td>363.0</td>\n",
       "      <td>0.0</td>\n",
       "      <td>0.081081</td>\n",
       "      <td>0.0</td>\n",
       "      <td>0.0</td>\n",
       "      <td>0.0</td>\n",
       "      <td>0.0</td>\n",
       "      <td>...</td>\n",
       "      <td>0.0</td>\n",
       "      <td>0.0</td>\n",
       "      <td>0.0</td>\n",
       "      <td>30</td>\n",
       "      <td>11</td>\n",
       "      <td>2023</td>\n",
       "      <td>3</td>\n",
       "      <td>48</td>\n",
       "      <td>0.038835</td>\n",
       "      <td>0.077052</td>\n",
       "    </tr>\n",
       "    <tr>\n",
       "      <th>4</th>\n",
       "      <td>14</td>\n",
       "      <td>1</td>\n",
       "      <td>1</td>\n",
       "      <td>362.0</td>\n",
       "      <td>0.0</td>\n",
       "      <td>0.081081</td>\n",
       "      <td>0.0</td>\n",
       "      <td>0.0</td>\n",
       "      <td>0.0</td>\n",
       "      <td>0.0</td>\n",
       "      <td>...</td>\n",
       "      <td>0.0</td>\n",
       "      <td>0.0</td>\n",
       "      <td>0.0</td>\n",
       "      <td>30</td>\n",
       "      <td>11</td>\n",
       "      <td>2023</td>\n",
       "      <td>3</td>\n",
       "      <td>48</td>\n",
       "      <td>0.038835</td>\n",
       "      <td>0.077052</td>\n",
       "    </tr>\n",
       "  </tbody>\n",
       "</table>\n",
       "<p>5 rows × 23 columns</p>\n",
       "</div>"
      ],
      "text/plain": [
       "   country_code  brand  contract_type  leadtime_days  occupancy_current  \\\n",
       "0            14      1              1          366.0                0.0   \n",
       "1            14      1              1          365.0                0.0   \n",
       "2            14      1              1          364.0                0.0   \n",
       "3            14      1              1          363.0                0.0   \n",
       "4            14      1              1          362.0                0.0   \n",
       "\n",
       "   occupancy_ly  vacation_1  vacation_2  vacation_3  is_covid_period  ...  \\\n",
       "0      0.081081         0.0         0.0         0.0              0.0  ...   \n",
       "1      0.081081         0.0         0.0         0.0              0.0  ...   \n",
       "2      0.081081         0.0         0.0         0.0              0.0  ...   \n",
       "3      0.081081         0.0         0.0         0.0              0.0  ...   \n",
       "4      0.081081         0.0         0.0         0.0              0.0  ...   \n",
       "\n",
       "   occ_delta7  occ_delta14  occ_delta30  day  month  year  weekday  \\\n",
       "0         0.0          0.0          0.0   30     11  2023        3   \n",
       "1         0.0          0.0          0.0   30     11  2023        3   \n",
       "2         0.0          0.0          0.0   30     11  2023        3   \n",
       "3         0.0          0.0          0.0   30     11  2023        3   \n",
       "4         0.0          0.0          0.0   30     11  2023        3   \n",
       "\n",
       "   weekofyear  occupancy  predicted  \n",
       "0          48   0.038835   0.077052  \n",
       "1          48   0.038835   0.077052  \n",
       "2          48   0.038835   0.077052  \n",
       "3          48   0.038835   0.077052  \n",
       "4          48   0.038835   0.077052  \n",
       "\n",
       "[5 rows x 23 columns]"
      ]
     },
     "execution_count": 5,
     "metadata": {},
     "output_type": "execute_result"
    }
   ],
   "source": [
    "df.head()"
   ]
  },
  {
   "cell_type": "code",
   "execution_count": 6,
   "id": "80bde8d2",
   "metadata": {},
   "outputs": [],
   "source": [
    "\n",
    "\n",
    "# Read the CSV data\n",
    "data = pd.read_csv('swedenstock.csv', header=None)\n",
    "\n",
    "# Flatten the data into a single list\n",
    "flattened_data = data.values.flatten()\n",
    "\n",
    "# Reshape the data into a new DataFrame with two columns\n",
    "reshaped_data = pd.DataFrame(flattened_data.reshape(-1, 2), columns=['Date', 'OMXS30'])\n",
    "\n",
    "# Save the transformed data to a new CSV file\n",
    "reshaped_data.to_csv('transformed_output.csv', index=False)\n"
   ]
  },
  {
   "cell_type": "code",
   "execution_count": 7,
   "id": "69b08396",
   "metadata": {},
   "outputs": [],
   "source": [
    "data=pd.read_csv('transformed_output.csv')"
   ]
  },
  {
   "cell_type": "code",
   "execution_count": 8,
   "id": "9c80672e",
   "metadata": {},
   "outputs": [
    {
     "data": {
      "text/html": [
       "<div>\n",
       "<style scoped>\n",
       "    .dataframe tbody tr th:only-of-type {\n",
       "        vertical-align: middle;\n",
       "    }\n",
       "\n",
       "    .dataframe tbody tr th {\n",
       "        vertical-align: top;\n",
       "    }\n",
       "\n",
       "    .dataframe thead th {\n",
       "        text-align: right;\n",
       "    }\n",
       "</style>\n",
       "<table border=\"1\" class=\"dataframe\">\n",
       "  <thead>\n",
       "    <tr style=\"text-align: right;\">\n",
       "      <th></th>\n",
       "      <th>Date</th>\n",
       "      <th>OMXS30</th>\n",
       "    </tr>\n",
       "  </thead>\n",
       "  <tbody>\n",
       "    <tr>\n",
       "      <th>0</th>\n",
       "      <td>02-01-2023</td>\n",
       "      <td>2374.540119</td>\n",
       "    </tr>\n",
       "    <tr>\n",
       "      <th>1</th>\n",
       "      <td>03-01-2023</td>\n",
       "      <td>2950.714306</td>\n",
       "    </tr>\n",
       "    <tr>\n",
       "      <th>2</th>\n",
       "      <td>04-01-2023</td>\n",
       "      <td>2731.993942</td>\n",
       "    </tr>\n",
       "    <tr>\n",
       "      <th>3</th>\n",
       "      <td>05-01-2023</td>\n",
       "      <td>2598.658484</td>\n",
       "    </tr>\n",
       "    <tr>\n",
       "      <th>4</th>\n",
       "      <td>06-01-2023</td>\n",
       "      <td>2156.018640</td>\n",
       "    </tr>\n",
       "  </tbody>\n",
       "</table>\n",
       "</div>"
      ],
      "text/plain": [
       "         Date       OMXS30\n",
       "0  02-01-2023  2374.540119\n",
       "1  03-01-2023  2950.714306\n",
       "2  04-01-2023  2731.993942\n",
       "3  05-01-2023  2598.658484\n",
       "4  06-01-2023  2156.018640"
      ]
     },
     "execution_count": 8,
     "metadata": {},
     "output_type": "execute_result"
    }
   ],
   "source": [
    "data.head()"
   ]
  },
  {
   "cell_type": "code",
   "execution_count": 9,
   "id": "306f1936",
   "metadata": {},
   "outputs": [],
   "source": [
    "filtered_df = df[df['country_code'] == 14]\n"
   ]
  },
  {
   "cell_type": "code",
   "execution_count": 10,
   "id": "e0195c65",
   "metadata": {},
   "outputs": [
    {
     "name": "stderr",
     "output_type": "stream",
     "text": [
      "C:\\Users\\kumar\\AppData\\Local\\Temp\\ipykernel_14432\\2575164464.py:1: SettingWithCopyWarning: \n",
      "A value is trying to be set on a copy of a slice from a DataFrame.\n",
      "Try using .loc[row_indexer,col_indexer] = value instead\n",
      "\n",
      "See the caveats in the documentation: https://pandas.pydata.org/pandas-docs/stable/user_guide/indexing.html#returning-a-view-versus-a-copy\n",
      "  filtered_df['date'] = pd.to_datetime(filtered_df[['year', 'month', 'day']])\n"
     ]
    }
   ],
   "source": [
    "filtered_df['date'] = pd.to_datetime(filtered_df[['year', 'month', 'day']])"
   ]
  },
  {
   "cell_type": "code",
   "execution_count": 11,
   "id": "ca98f587",
   "metadata": {},
   "outputs": [
    {
     "data": {
      "text/html": [
       "<div>\n",
       "<style scoped>\n",
       "    .dataframe tbody tr th:only-of-type {\n",
       "        vertical-align: middle;\n",
       "    }\n",
       "\n",
       "    .dataframe tbody tr th {\n",
       "        vertical-align: top;\n",
       "    }\n",
       "\n",
       "    .dataframe thead th {\n",
       "        text-align: right;\n",
       "    }\n",
       "</style>\n",
       "<table border=\"1\" class=\"dataframe\">\n",
       "  <thead>\n",
       "    <tr style=\"text-align: right;\">\n",
       "      <th></th>\n",
       "      <th>country_code</th>\n",
       "      <th>brand</th>\n",
       "      <th>contract_type</th>\n",
       "      <th>leadtime_days</th>\n",
       "      <th>occupancy_current</th>\n",
       "      <th>occupancy_ly</th>\n",
       "      <th>vacation_1</th>\n",
       "      <th>vacation_2</th>\n",
       "      <th>vacation_3</th>\n",
       "      <th>is_covid_period</th>\n",
       "      <th>...</th>\n",
       "      <th>occ_delta14</th>\n",
       "      <th>occ_delta30</th>\n",
       "      <th>day</th>\n",
       "      <th>month</th>\n",
       "      <th>year</th>\n",
       "      <th>weekday</th>\n",
       "      <th>weekofyear</th>\n",
       "      <th>occupancy</th>\n",
       "      <th>predicted</th>\n",
       "      <th>date</th>\n",
       "    </tr>\n",
       "  </thead>\n",
       "  <tbody>\n",
       "    <tr>\n",
       "      <th>0</th>\n",
       "      <td>14</td>\n",
       "      <td>1</td>\n",
       "      <td>1</td>\n",
       "      <td>366.0</td>\n",
       "      <td>0.0</td>\n",
       "      <td>0.081081</td>\n",
       "      <td>0.0</td>\n",
       "      <td>0.0</td>\n",
       "      <td>0.0</td>\n",
       "      <td>0.0</td>\n",
       "      <td>...</td>\n",
       "      <td>0.0</td>\n",
       "      <td>0.0</td>\n",
       "      <td>30</td>\n",
       "      <td>11</td>\n",
       "      <td>2023</td>\n",
       "      <td>3</td>\n",
       "      <td>48</td>\n",
       "      <td>0.038835</td>\n",
       "      <td>0.077052</td>\n",
       "      <td>2023-11-30</td>\n",
       "    </tr>\n",
       "    <tr>\n",
       "      <th>1</th>\n",
       "      <td>14</td>\n",
       "      <td>1</td>\n",
       "      <td>1</td>\n",
       "      <td>365.0</td>\n",
       "      <td>0.0</td>\n",
       "      <td>0.081081</td>\n",
       "      <td>0.0</td>\n",
       "      <td>0.0</td>\n",
       "      <td>0.0</td>\n",
       "      <td>0.0</td>\n",
       "      <td>...</td>\n",
       "      <td>0.0</td>\n",
       "      <td>0.0</td>\n",
       "      <td>30</td>\n",
       "      <td>11</td>\n",
       "      <td>2023</td>\n",
       "      <td>3</td>\n",
       "      <td>48</td>\n",
       "      <td>0.038835</td>\n",
       "      <td>0.077052</td>\n",
       "      <td>2023-11-30</td>\n",
       "    </tr>\n",
       "    <tr>\n",
       "      <th>2</th>\n",
       "      <td>14</td>\n",
       "      <td>1</td>\n",
       "      <td>1</td>\n",
       "      <td>364.0</td>\n",
       "      <td>0.0</td>\n",
       "      <td>0.081081</td>\n",
       "      <td>0.0</td>\n",
       "      <td>0.0</td>\n",
       "      <td>0.0</td>\n",
       "      <td>0.0</td>\n",
       "      <td>...</td>\n",
       "      <td>0.0</td>\n",
       "      <td>0.0</td>\n",
       "      <td>30</td>\n",
       "      <td>11</td>\n",
       "      <td>2023</td>\n",
       "      <td>3</td>\n",
       "      <td>48</td>\n",
       "      <td>0.038835</td>\n",
       "      <td>0.077052</td>\n",
       "      <td>2023-11-30</td>\n",
       "    </tr>\n",
       "    <tr>\n",
       "      <th>3</th>\n",
       "      <td>14</td>\n",
       "      <td>1</td>\n",
       "      <td>1</td>\n",
       "      <td>363.0</td>\n",
       "      <td>0.0</td>\n",
       "      <td>0.081081</td>\n",
       "      <td>0.0</td>\n",
       "      <td>0.0</td>\n",
       "      <td>0.0</td>\n",
       "      <td>0.0</td>\n",
       "      <td>...</td>\n",
       "      <td>0.0</td>\n",
       "      <td>0.0</td>\n",
       "      <td>30</td>\n",
       "      <td>11</td>\n",
       "      <td>2023</td>\n",
       "      <td>3</td>\n",
       "      <td>48</td>\n",
       "      <td>0.038835</td>\n",
       "      <td>0.077052</td>\n",
       "      <td>2023-11-30</td>\n",
       "    </tr>\n",
       "    <tr>\n",
       "      <th>4</th>\n",
       "      <td>14</td>\n",
       "      <td>1</td>\n",
       "      <td>1</td>\n",
       "      <td>362.0</td>\n",
       "      <td>0.0</td>\n",
       "      <td>0.081081</td>\n",
       "      <td>0.0</td>\n",
       "      <td>0.0</td>\n",
       "      <td>0.0</td>\n",
       "      <td>0.0</td>\n",
       "      <td>...</td>\n",
       "      <td>0.0</td>\n",
       "      <td>0.0</td>\n",
       "      <td>30</td>\n",
       "      <td>11</td>\n",
       "      <td>2023</td>\n",
       "      <td>3</td>\n",
       "      <td>48</td>\n",
       "      <td>0.038835</td>\n",
       "      <td>0.077052</td>\n",
       "      <td>2023-11-30</td>\n",
       "    </tr>\n",
       "  </tbody>\n",
       "</table>\n",
       "<p>5 rows × 24 columns</p>\n",
       "</div>"
      ],
      "text/plain": [
       "   country_code  brand  contract_type  leadtime_days  occupancy_current  \\\n",
       "0            14      1              1          366.0                0.0   \n",
       "1            14      1              1          365.0                0.0   \n",
       "2            14      1              1          364.0                0.0   \n",
       "3            14      1              1          363.0                0.0   \n",
       "4            14      1              1          362.0                0.0   \n",
       "\n",
       "   occupancy_ly  vacation_1  vacation_2  vacation_3  is_covid_period  ...  \\\n",
       "0      0.081081         0.0         0.0         0.0              0.0  ...   \n",
       "1      0.081081         0.0         0.0         0.0              0.0  ...   \n",
       "2      0.081081         0.0         0.0         0.0              0.0  ...   \n",
       "3      0.081081         0.0         0.0         0.0              0.0  ...   \n",
       "4      0.081081         0.0         0.0         0.0              0.0  ...   \n",
       "\n",
       "   occ_delta14  occ_delta30  day  month  year  weekday  weekofyear  occupancy  \\\n",
       "0          0.0          0.0   30     11  2023        3          48   0.038835   \n",
       "1          0.0          0.0   30     11  2023        3          48   0.038835   \n",
       "2          0.0          0.0   30     11  2023        3          48   0.038835   \n",
       "3          0.0          0.0   30     11  2023        3          48   0.038835   \n",
       "4          0.0          0.0   30     11  2023        3          48   0.038835   \n",
       "\n",
       "   predicted       date  \n",
       "0   0.077052 2023-11-30  \n",
       "1   0.077052 2023-11-30  \n",
       "2   0.077052 2023-11-30  \n",
       "3   0.077052 2023-11-30  \n",
       "4   0.077052 2023-11-30  \n",
       "\n",
       "[5 rows x 24 columns]"
      ]
     },
     "execution_count": 11,
     "metadata": {},
     "output_type": "execute_result"
    }
   ],
   "source": [
    "filtered_df.head()"
   ]
  },
  {
   "cell_type": "code",
   "execution_count": 12,
   "id": "2e4dc5e7",
   "metadata": {},
   "outputs": [],
   "source": [
    "start_date = '2023-01-02'\n",
    "end_date = '2023-12-31'\n",
    "date_filtered_df = filtered_df[(filtered_df['date'] >= start_date) & (filtered_df['date'] <= end_date)]"
   ]
  },
  {
   "cell_type": "code",
   "execution_count": 13,
   "id": "8652e032",
   "metadata": {},
   "outputs": [
    {
     "name": "stdout",
     "output_type": "stream",
     "text": [
      "<class 'pandas.core.frame.DataFrame'>\n",
      "RangeIndex: 59347773 entries, 0 to 59347772\n",
      "Data columns (total 23 columns):\n",
      " #   Column             Dtype  \n",
      "---  ------             -----  \n",
      " 0   country_code       int64  \n",
      " 1   brand              int64  \n",
      " 2   contract_type      int64  \n",
      " 3   leadtime_days      float32\n",
      " 4   occupancy_current  float32\n",
      " 5   occupancy_ly       float32\n",
      " 6   vacation_1         float32\n",
      " 7   vacation_2         float32\n",
      " 8   vacation_3         float32\n",
      " 9   is_covid_period    float32\n",
      " 10  occ_delta          float32\n",
      " 11  occ_delta1         float32\n",
      " 12  occ_delta3         float32\n",
      " 13  occ_delta7         float32\n",
      " 14  occ_delta14        float32\n",
      " 15  occ_delta30        float32\n",
      " 16  day                int16  \n",
      " 17  month              int16  \n",
      " 18  year               int16  \n",
      " 19  weekday            int16  \n",
      " 20  weekofyear         int16  \n",
      " 21  occupancy          float64\n",
      " 22  predicted          float64\n",
      "dtypes: float32(13), float64(2), int16(5), int64(3)\n",
      "memory usage: 5.6 GB\n"
     ]
    }
   ],
   "source": [
    "df.info()"
   ]
  },
  {
   "cell_type": "code",
   "execution_count": 16,
   "id": "015e32a6",
   "metadata": {},
   "outputs": [],
   "source": [
    "data['Date'] = pd.to_datetime(data['Date'], format='%d-%m-%Y')"
   ]
  },
  {
   "cell_type": "code",
   "execution_count": 17,
   "id": "77f00163",
   "metadata": {},
   "outputs": [
    {
     "name": "stdout",
     "output_type": "stream",
     "text": [
      "        country_code  brand  contract_type  leadtime_days  occupancy_current  \\\n",
      "0                 14      1              1          366.0           0.000000   \n",
      "1                 14      1              1          365.0           0.000000   \n",
      "2                 14      1              1          364.0           0.000000   \n",
      "3                 14      1              1          363.0           0.000000   \n",
      "4                 14      1              1          362.0           0.000000   \n",
      "...              ...    ...            ...            ...                ...   \n",
      "717860            14      1              1            5.0           0.143284   \n",
      "717861            14      1              1            4.0           0.143284   \n",
      "717862            14      1              1            3.0           0.140719   \n",
      "717863            14      1              1            2.0           0.140719   \n",
      "717864            14      1              1            1.0           0.140719   \n",
      "\n",
      "        occupancy_ly  vacation_1  vacation_2  vacation_3  is_covid_period  \\\n",
      "0           0.081081    0.000000         0.0         0.0              0.0   \n",
      "1           0.081081    0.000000         0.0         0.0              0.0   \n",
      "2           0.081081    0.000000         0.0         0.0              0.0   \n",
      "3           0.081081    0.000000         0.0         0.0              0.0   \n",
      "4           0.081081    0.000000         0.0         0.0              0.0   \n",
      "...              ...         ...         ...         ...              ...   \n",
      "717860      0.071023    0.862319         1.0         1.0              0.0   \n",
      "717861      0.071023    0.862319         1.0         1.0              0.0   \n",
      "717862      0.071023    0.862319         1.0         1.0              0.0   \n",
      "717863      0.071023    0.862319         1.0         1.0              0.0   \n",
      "717864      0.071023    0.862319         1.0         1.0              0.0   \n",
      "\n",
      "        ...  day  month  year  weekday  weekofyear  occupancy  predicted  \\\n",
      "0       ...   30     11  2023        3          48   0.038835   0.077052   \n",
      "1       ...   30     11  2023        3          48   0.038835   0.077052   \n",
      "2       ...   30     11  2023        3          48   0.038835   0.077052   \n",
      "3       ...   30     11  2023        3          48   0.038835   0.077052   \n",
      "4       ...   30     11  2023        3          48   0.038835   0.077052   \n",
      "...     ...  ...    ...   ...      ...         ...        ...        ...   \n",
      "717860  ...    1      1  2018        0           1   0.132132   0.159751   \n",
      "717861  ...    1      1  2018        0           1   0.132132   0.160395   \n",
      "717862  ...    1      1  2018        0           1   0.132132   0.158355   \n",
      "717863  ...    1      1  2018        0           1   0.132132   0.158150   \n",
      "717864  ...    1      1  2018        0           1   0.132132   0.158150   \n",
      "\n",
      "             date       Date       OMXS30  \n",
      "0      2023-11-30 2023-11-30  2645.472296  \n",
      "1      2023-11-30 2023-11-30  2645.472296  \n",
      "2      2023-11-30 2023-11-30  2645.472296  \n",
      "3      2023-11-30 2023-11-30  2645.472296  \n",
      "4      2023-11-30 2023-11-30  2645.472296  \n",
      "...           ...        ...          ...  \n",
      "717860 2018-01-01 2018-01-01          NaN  \n",
      "717861 2018-01-01 2018-01-01          NaN  \n",
      "717862 2018-01-01 2018-01-01          NaN  \n",
      "717863 2018-01-01 2018-01-01          NaN  \n",
      "717864 2018-01-01 2018-01-01          NaN  \n",
      "\n",
      "[717865 rows x 26 columns]\n"
     ]
    }
   ],
   "source": [
    "date_filtered_df = pd.DataFrame(filtered_df)\n",
    "\n",
    "# Combine day, month, year into a single datetime column\n",
    "date_filtered_df['Date'] = pd.to_datetime(date_filtered_df[['year', 'month', 'day']])\n",
    "\n",
    "# Merge the DataFrames on the date column\n",
    "merged_df = pd.merge(date_filtered_df, data, on='Date', how='left')\n",
    "\n",
    "# Display the resulting DataFrame\n",
    "print(merged_df)"
   ]
  },
  {
   "cell_type": "code",
   "execution_count": 18,
   "id": "30c8c8ce",
   "metadata": {},
   "outputs": [
    {
     "name": "stdout",
     "output_type": "stream",
     "text": [
      "\n"
     ]
    }
   ],
   "source": [
    "print()\n"
   ]
  },
  {
   "cell_type": "code",
   "execution_count": 19,
   "id": "30529f6a",
   "metadata": {},
   "outputs": [
    {
     "data": {
      "text/html": [
       "<div>\n",
       "<style scoped>\n",
       "    .dataframe tbody tr th:only-of-type {\n",
       "        vertical-align: middle;\n",
       "    }\n",
       "\n",
       "    .dataframe tbody tr th {\n",
       "        vertical-align: top;\n",
       "    }\n",
       "\n",
       "    .dataframe thead th {\n",
       "        text-align: right;\n",
       "    }\n",
       "</style>\n",
       "<table border=\"1\" class=\"dataframe\">\n",
       "  <thead>\n",
       "    <tr style=\"text-align: right;\">\n",
       "      <th></th>\n",
       "      <th>country_code</th>\n",
       "      <th>brand</th>\n",
       "      <th>contract_type</th>\n",
       "      <th>leadtime_days</th>\n",
       "      <th>occupancy_current</th>\n",
       "      <th>occupancy_ly</th>\n",
       "      <th>vacation_1</th>\n",
       "      <th>vacation_2</th>\n",
       "      <th>vacation_3</th>\n",
       "      <th>is_covid_period</th>\n",
       "      <th>...</th>\n",
       "      <th>day</th>\n",
       "      <th>month</th>\n",
       "      <th>year</th>\n",
       "      <th>weekday</th>\n",
       "      <th>weekofyear</th>\n",
       "      <th>occupancy</th>\n",
       "      <th>predicted</th>\n",
       "      <th>date</th>\n",
       "      <th>Date</th>\n",
       "      <th>OMXS30</th>\n",
       "    </tr>\n",
       "  </thead>\n",
       "  <tbody>\n",
       "    <tr>\n",
       "      <th>0</th>\n",
       "      <td>14</td>\n",
       "      <td>1</td>\n",
       "      <td>1</td>\n",
       "      <td>366.0</td>\n",
       "      <td>0.0</td>\n",
       "      <td>0.081081</td>\n",
       "      <td>0.0</td>\n",
       "      <td>0.0</td>\n",
       "      <td>0.0</td>\n",
       "      <td>0.0</td>\n",
       "      <td>...</td>\n",
       "      <td>30</td>\n",
       "      <td>11</td>\n",
       "      <td>2023</td>\n",
       "      <td>3</td>\n",
       "      <td>48</td>\n",
       "      <td>0.038835</td>\n",
       "      <td>0.077052</td>\n",
       "      <td>2023-11-30</td>\n",
       "      <td>2023-11-30</td>\n",
       "      <td>2645.472296</td>\n",
       "    </tr>\n",
       "    <tr>\n",
       "      <th>1</th>\n",
       "      <td>14</td>\n",
       "      <td>1</td>\n",
       "      <td>1</td>\n",
       "      <td>365.0</td>\n",
       "      <td>0.0</td>\n",
       "      <td>0.081081</td>\n",
       "      <td>0.0</td>\n",
       "      <td>0.0</td>\n",
       "      <td>0.0</td>\n",
       "      <td>0.0</td>\n",
       "      <td>...</td>\n",
       "      <td>30</td>\n",
       "      <td>11</td>\n",
       "      <td>2023</td>\n",
       "      <td>3</td>\n",
       "      <td>48</td>\n",
       "      <td>0.038835</td>\n",
       "      <td>0.077052</td>\n",
       "      <td>2023-11-30</td>\n",
       "      <td>2023-11-30</td>\n",
       "      <td>2645.472296</td>\n",
       "    </tr>\n",
       "    <tr>\n",
       "      <th>2</th>\n",
       "      <td>14</td>\n",
       "      <td>1</td>\n",
       "      <td>1</td>\n",
       "      <td>364.0</td>\n",
       "      <td>0.0</td>\n",
       "      <td>0.081081</td>\n",
       "      <td>0.0</td>\n",
       "      <td>0.0</td>\n",
       "      <td>0.0</td>\n",
       "      <td>0.0</td>\n",
       "      <td>...</td>\n",
       "      <td>30</td>\n",
       "      <td>11</td>\n",
       "      <td>2023</td>\n",
       "      <td>3</td>\n",
       "      <td>48</td>\n",
       "      <td>0.038835</td>\n",
       "      <td>0.077052</td>\n",
       "      <td>2023-11-30</td>\n",
       "      <td>2023-11-30</td>\n",
       "      <td>2645.472296</td>\n",
       "    </tr>\n",
       "    <tr>\n",
       "      <th>3</th>\n",
       "      <td>14</td>\n",
       "      <td>1</td>\n",
       "      <td>1</td>\n",
       "      <td>363.0</td>\n",
       "      <td>0.0</td>\n",
       "      <td>0.081081</td>\n",
       "      <td>0.0</td>\n",
       "      <td>0.0</td>\n",
       "      <td>0.0</td>\n",
       "      <td>0.0</td>\n",
       "      <td>...</td>\n",
       "      <td>30</td>\n",
       "      <td>11</td>\n",
       "      <td>2023</td>\n",
       "      <td>3</td>\n",
       "      <td>48</td>\n",
       "      <td>0.038835</td>\n",
       "      <td>0.077052</td>\n",
       "      <td>2023-11-30</td>\n",
       "      <td>2023-11-30</td>\n",
       "      <td>2645.472296</td>\n",
       "    </tr>\n",
       "    <tr>\n",
       "      <th>4</th>\n",
       "      <td>14</td>\n",
       "      <td>1</td>\n",
       "      <td>1</td>\n",
       "      <td>362.0</td>\n",
       "      <td>0.0</td>\n",
       "      <td>0.081081</td>\n",
       "      <td>0.0</td>\n",
       "      <td>0.0</td>\n",
       "      <td>0.0</td>\n",
       "      <td>0.0</td>\n",
       "      <td>...</td>\n",
       "      <td>30</td>\n",
       "      <td>11</td>\n",
       "      <td>2023</td>\n",
       "      <td>3</td>\n",
       "      <td>48</td>\n",
       "      <td>0.038835</td>\n",
       "      <td>0.077052</td>\n",
       "      <td>2023-11-30</td>\n",
       "      <td>2023-11-30</td>\n",
       "      <td>2645.472296</td>\n",
       "    </tr>\n",
       "  </tbody>\n",
       "</table>\n",
       "<p>5 rows × 26 columns</p>\n",
       "</div>"
      ],
      "text/plain": [
       "   country_code  brand  contract_type  leadtime_days  occupancy_current  \\\n",
       "0            14      1              1          366.0                0.0   \n",
       "1            14      1              1          365.0                0.0   \n",
       "2            14      1              1          364.0                0.0   \n",
       "3            14      1              1          363.0                0.0   \n",
       "4            14      1              1          362.0                0.0   \n",
       "\n",
       "   occupancy_ly  vacation_1  vacation_2  vacation_3  is_covid_period  ...  \\\n",
       "0      0.081081         0.0         0.0         0.0              0.0  ...   \n",
       "1      0.081081         0.0         0.0         0.0              0.0  ...   \n",
       "2      0.081081         0.0         0.0         0.0              0.0  ...   \n",
       "3      0.081081         0.0         0.0         0.0              0.0  ...   \n",
       "4      0.081081         0.0         0.0         0.0              0.0  ...   \n",
       "\n",
       "   day  month  year  weekday  weekofyear  occupancy  predicted       date  \\\n",
       "0   30     11  2023        3          48   0.038835   0.077052 2023-11-30   \n",
       "1   30     11  2023        3          48   0.038835   0.077052 2023-11-30   \n",
       "2   30     11  2023        3          48   0.038835   0.077052 2023-11-30   \n",
       "3   30     11  2023        3          48   0.038835   0.077052 2023-11-30   \n",
       "4   30     11  2023        3          48   0.038835   0.077052 2023-11-30   \n",
       "\n",
       "        Date       OMXS30  \n",
       "0 2023-11-30  2645.472296  \n",
       "1 2023-11-30  2645.472296  \n",
       "2 2023-11-30  2645.472296  \n",
       "3 2023-11-30  2645.472296  \n",
       "4 2023-11-30  2645.472296  \n",
       "\n",
       "[5 rows x 26 columns]"
      ]
     },
     "execution_count": 19,
     "metadata": {},
     "output_type": "execute_result"
    }
   ],
   "source": [
    "merged_df.head()"
   ]
  },
  {
   "cell_type": "code",
   "execution_count": 20,
   "id": "363f2ce4",
   "metadata": {},
   "outputs": [
    {
     "name": "stdout",
     "output_type": "stream",
     "text": [
      "<class 'pandas.core.frame.DataFrame'>\n",
      "RangeIndex: 717865 entries, 0 to 717864\n",
      "Data columns (total 26 columns):\n",
      " #   Column             Non-Null Count   Dtype         \n",
      "---  ------             --------------   -----         \n",
      " 0   country_code       717865 non-null  int64         \n",
      " 1   brand              717865 non-null  int64         \n",
      " 2   contract_type      717865 non-null  int64         \n",
      " 3   leadtime_days      717865 non-null  float32       \n",
      " 4   occupancy_current  717865 non-null  float32       \n",
      " 5   occupancy_ly       717865 non-null  float32       \n",
      " 6   vacation_1         717865 non-null  float32       \n",
      " 7   vacation_2         717865 non-null  float32       \n",
      " 8   vacation_3         717865 non-null  float32       \n",
      " 9   is_covid_period    717865 non-null  float32       \n",
      " 10  occ_delta          717865 non-null  float32       \n",
      " 11  occ_delta1         717865 non-null  float32       \n",
      " 12  occ_delta3         717865 non-null  float32       \n",
      " 13  occ_delta7         717865 non-null  float32       \n",
      " 14  occ_delta14        717865 non-null  float32       \n",
      " 15  occ_delta30        717865 non-null  float32       \n",
      " 16  day                717865 non-null  int16         \n",
      " 17  month              717865 non-null  int16         \n",
      " 18  year               717865 non-null  int16         \n",
      " 19  weekday            717865 non-null  int16         \n",
      " 20  weekofyear         717865 non-null  int16         \n",
      " 21  occupancy          717865 non-null  float64       \n",
      " 22  predicted          717865 non-null  float64       \n",
      " 23  date               717865 non-null  datetime64[ns]\n",
      " 24  Date               717865 non-null  datetime64[ns]\n",
      " 25  OMXS30             87367 non-null   float64       \n",
      "dtypes: datetime64[ns](2), float32(13), float64(3), int16(5), int64(3)\n",
      "memory usage: 86.3 MB\n"
     ]
    }
   ],
   "source": [
    "merged_df.info()"
   ]
  },
  {
   "cell_type": "code",
   "execution_count": 21,
   "id": "d6ad2d25",
   "metadata": {},
   "outputs": [],
   "source": [
    "import numpy as np\n",
    "import matplotlib.pyplot as plt\n",
    "import seaborn as sns\n",
    "%matplotlib inline"
   ]
  },
  {
   "cell_type": "code",
   "execution_count": 22,
   "id": "5f034064",
   "metadata": {},
   "outputs": [
    {
     "name": "stderr",
     "output_type": "stream",
     "text": [
      "D:\\Anaconda\\Lib\\site-packages\\seaborn\\axisgrid.py:118: UserWarning: The figure layout has changed to tight\n",
      "  self._figure.tight_layout(*args, **kwargs)\n"
     ]
    },
    {
     "data": {
      "text/plain": [
       "<seaborn.axisgrid.FacetGrid at 0x22f133c7a50>"
      ]
     },
     "execution_count": 22,
     "metadata": {},
     "output_type": "execute_result"
    },
    {
     "data": {
      "image/png": "[encoded data removed]",
      "text/plain": [
       "<Figure size 500x500 with 1 Axes>"
      ]
     },
     "metadata": {},
     "output_type": "display_data"
    }
   ],
   "source": [
    "sns.lmplot(x='occupancy',y='OMXS30',data=merged_df)"
   ]
  },
  {
   "cell_type": "code",
   "execution_count": 23,
   "id": "b7d99cc1",
   "metadata": {},
   "outputs": [
    {
     "name": "stdout",
     "output_type": "stream",
     "text": [
      "\n"
     ]
    }
   ],
   "source": [
    "print(\"\")"
   ]
  },
  {
   "cell_type": "code",
   "execution_count": 24,
   "id": "d367a7c9",
   "metadata": {},
   "outputs": [],
   "source": [
    "y = merged_df['occupancy']"
   ]
  },
  {
   "cell_type": "code",
   "execution_count": 25,
   "id": "4782b5ba",
   "metadata": {},
   "outputs": [
    {
     "data": {
      "text/plain": [
       "['country_code',\n",
       " 'brand',\n",
       " 'contract_type',\n",
       " 'leadtime_days',\n",
       " 'occupancy_current',\n",
       " 'occupancy_ly',\n",
       " 'vacation_1',\n",
       " 'vacation_2',\n",
       " 'vacation_3',\n",
       " 'is_covid_period',\n",
       " 'occ_delta',\n",
       " 'occ_delta1',\n",
       " 'occ_delta3',\n",
       " 'occ_delta7',\n",
       " 'occ_delta14',\n",
       " 'occ_delta30',\n",
       " 'day',\n",
       " 'month',\n",
       " 'year',\n",
       " 'weekday',\n",
       " 'weekofyear',\n",
       " 'occupancy',\n",
       " 'predicted',\n",
       " 'date',\n",
       " 'Date',\n",
       " 'OMXS30']"
      ]
     },
     "execution_count": 25,
     "metadata": {},
     "output_type": "execute_result"
    }
   ],
   "source": [
    "merged_df.columns.tolist()"
   ]
  },
  {
   "cell_type": "code",
   "execution_count": 26,
   "id": "d7cb6e80",
   "metadata": {},
   "outputs": [],
   "source": [
    "X = merged_df[[\n",
    " 'brand',\n",
    " 'contract_type',\n",
    " 'leadtime_days',\n",
    " 'occupancy_current',\n",
    " 'occupancy_ly',\n",
    " 'vacation_1',\n",
    " 'vacation_2',\n",
    " 'vacation_3',\n",
    " 'is_covid_period',\n",
    " 'occ_delta',\n",
    " 'occ_delta1',\n",
    " 'occ_delta3',\n",
    " 'occ_delta7',\n",
    " 'occ_delta14',\n",
    " 'occ_delta30',\n",
    " 'weekday',\n",
    " 'weekofyear'\n",
    " ]]"
   ]
  },
  {
   "cell_type": "code",
   "execution_count": 27,
   "id": "da0cea36",
   "metadata": {},
   "outputs": [],
   "source": [
    "from sklearn.model_selection import train_test_split"
   ]
  },
  {
   "cell_type": "code",
   "execution_count": 28,
   "id": "6b9fcd4b",
   "metadata": {},
   "outputs": [],
   "source": [
    "X_train, X_test, y_train, y_test = train_test_split(X, y, test_size=0.3, random_state=101)"
   ]
  },
  {
   "cell_type": "code",
   "execution_count": 29,
   "id": "a053cf1a",
   "metadata": {},
   "outputs": [],
   "source": [
    "from sklearn.linear_model import LinearRegression"
   ]
  },
  {
   "cell_type": "code",
   "execution_count": 30,
   "id": "c5a2e8d9",
   "metadata": {},
   "outputs": [],
   "source": [
    "lm = LinearRegression()"
   ]
  },
  {
   "cell_type": "code",
   "execution_count": 31,
   "id": "7fdf1e59",
   "metadata": {},
   "outputs": [
    {
     "data": {
      "text/html": [
       "<style>#sk-container-id-1 {color: black;}#sk-container-id-1 pre{padding: 0;}#sk-container-id-1 div.sk-toggleable {background-color: white;}#sk-container-id-1 label.sk-toggleable__label {cursor: pointer;display: block;width: 100%;margin-bottom: 0;padding: 0.3em;box-sizing: border-box;text-align: center;}#sk-container-id-1 label.sk-toggleable__label-arrow:before {content: \"▸\";float: left;margin-right: 0.25em;color: #696969;}#sk-container-id-1 label.sk-toggleable__label-arrow:hover:before {color: black;}#sk-container-id-1 div.sk-estimator:hover label.sk-toggleable__label-arrow:before {color: black;}#sk-container-id-1 div.sk-toggleable__content {max-height: 0;max-width: 0;overflow: hidden;text-align: left;background-color: #f0f8ff;}#sk-container-id-1 div.sk-toggleable__content pre {margin: 0.2em;color: black;border-radius: 0.25em;background-color: #f0f8ff;}#sk-container-id-1 input.sk-toggleable__control:checked~div.sk-toggleable__content {max-height: 200px;max-width: 100%;overflow: auto;}#sk-container-id-1 input.sk-toggleable__control:checked~label.sk-toggleable__label-arrow:before {content: \"▾\";}#sk-container-id-1 div.sk-estimator input.sk-toggleable__control:checked~label.sk-toggleable__label {background-color: #d4ebff;}#sk-container-id-1 div.sk-label input.sk-toggleable__control:checked~label.sk-toggleable__label {background-color: #d4ebff;}#sk-container-id-1 input.sk-hidden--visually {border: 0;clip: rect(1px 1px 1px 1px);clip: rect(1px, 1px, 1px, 1px);height: 1px;margin: -1px;overflow: hidden;padding: 0;position: absolute;width: 1px;}#sk-container-id-1 div.sk-estimator {font-family: monospace;background-color: #f0f8ff;border: 1px dotted black;border-radius: 0.25em;box-sizing: border-box;margin-bottom: 0.5em;}#sk-container-id-1 div.sk-estimator:hover {background-color: #d4ebff;}#sk-container-id-1 div.sk-parallel-item::after {content: \"\";width: 100%;border-bottom: 1px solid gray;flex-grow: 1;}#sk-container-id-1 div.sk-label:hover label.sk-toggleable__label {background-color: #d4ebff;}#sk-container-id-1 div.sk-serial::before {content: \"\";position: absolute;border-left: 1px solid gray;box-sizing: border-box;top: 0;bottom: 0;left: 50%;z-index: 0;}#sk-container-id-1 div.sk-serial {display: flex;flex-direction: column;align-items: center;background-color: white;padding-right: 0.2em;padding-left: 0.2em;position: relative;}#sk-container-id-1 div.sk-item {position: relative;z-index: 1;}#sk-container-id-1 div.sk-parallel {display: flex;align-items: stretch;justify-content: center;background-color: white;position: relative;}#sk-container-id-1 div.sk-item::before, #sk-container-id-1 div.sk-parallel-item::before {content: \"\";position: absolute;border-left: 1px solid gray;box-sizing: border-box;top: 0;bottom: 0;left: 50%;z-index: -1;}#sk-container-id-1 div.sk-parallel-item {display: flex;flex-direction: column;z-index: 1;position: relative;background-color: white;}#sk-container-id-1 div.sk-parallel-item:first-child::after {align-self: flex-end;width: 50%;}#sk-container-id-1 div.sk-parallel-item:last-child::after {align-self: flex-start;width: 50%;}#sk-container-id-1 div.sk-parallel-item:only-child::after {width: 0;}#sk-container-id-1 div.sk-dashed-wrapped {border: 1px dashed gray;margin: 0 0.4em 0.5em 0.4em;box-sizing: border-box;padding-bottom: 0.4em;background-color: white;}#sk-container-id-1 div.sk-label label {font-family: monospace;font-weight: bold;display: inline-block;line-height: 1.2em;}#sk-container-id-1 div.sk-label-container {text-align: center;}#sk-container-id-1 div.sk-container {/* jupyter's `normalize.less` sets `[hidden] { display: none; }` but bootstrap.min.css set `[hidden] { display: none !important; }` so we also need the `!important` here to be able to override the default hidden behavior on the sphinx rendered scikit-learn.org. See: https://github.com/scikit-learn/scikit-learn/issues/21755 */display: inline-block !important;position: relative;}#sk-container-id-1 div.sk-text-repr-fallback {display: none;}</style><div id=\"sk-container-id-1\" class=\"sk-top-container\"><div class=\"sk-text-repr-fallback\"><pre>LinearRegression()</pre><b>In a Jupyter environment, please rerun this cell to show the HTML representation or trust the notebook. <br />On GitHub, the HTML representation is unable to render, please try loading this page with nbviewer.org.</b></div><div class=\"sk-container\" hidden><div class=\"sk-item\"><div class=\"sk-estimator sk-toggleable\"><input class=\"sk-toggleable__control sk-hidden--visually\" id=\"sk-estimator-id-1\" type=\"checkbox\" checked><label for=\"sk-estimator-id-1\" class=\"sk-toggleable__label sk-toggleable__label-arrow\">LinearRegression</label><div class=\"sk-toggleable__content\"><pre>LinearRegression()</pre></div></div></div></div></div>"
      ],
      "text/plain": [
       "LinearRegression()"
      ]
     },
     "execution_count": 31,
     "metadata": {},
     "output_type": "execute_result"
    }
   ],
   "source": [
    "lm.fit(X_train,y_train)"
   ]
  },
  {
   "cell_type": "code",
   "execution_count": 32,
   "id": "1aa7cd3a",
   "metadata": {},
   "outputs": [],
   "source": [
    "predictions = lm.predict( X_test)"
   ]
  },
  {
   "cell_type": "code",
   "execution_count": 33,
   "id": "c3004689",
   "metadata": {},
   "outputs": [
    {
     "data": {
      "text/plain": [
       "Text(0, 0.5, 'Predicted Y')"
      ]
     },
     "execution_count": 33,
     "metadata": {},
     "output_type": "execute_result"
    },
    {
     "data": {
      "image/png": "[encoded data removed]",
      "text/plain": [
       "<Figure size 640x480 with 1 Axes>"
      ]
     },
     "metadata": {},
     "output_type": "display_data"
    }
   ],
   "source": [
    "plt.scatter(y_test,predictions)\n",
    "plt.xlabel('Y Test')\n",
    "plt.ylabel('Predicted Y')"
   ]
  },
  {
   "cell_type": "code",
   "execution_count": 34,
   "id": "4506702c",
   "metadata": {},
   "outputs": [
    {
     "name": "stdout",
     "output_type": "stream",
     "text": [
      "MAE: 0.048443620894960404\n",
      "MSE: 0.004610476797564645\n",
      "RMSE: 0.06790049188013769\n"
     ]
    }
   ],
   "source": [
    "from sklearn import metrics\n",
    "\n",
    "print('MAE:', metrics.mean_absolute_error(y_test, predictions))\n",
    "print('MSE:', metrics.mean_squared_error(y_test, predictions))\n",
    "print('RMSE:', np.sqrt(metrics.mean_squared_error(y_test, predictions)))"
   ]
  },
  {
   "cell_type": "code",
   "execution_count": 45,
   "id": "46115bfc",
   "metadata": {},
   "outputs": [],
   "source": [
    "merged_df=merged_df.dropna()"
   ]
  },
  {
   "cell_type": "code",
   "execution_count": 46,
   "id": "c22885b3",
   "metadata": {},
   "outputs": [],
   "source": [
    "y = merged_df['occupancy']"
   ]
  },
  {
   "cell_type": "code",
   "execution_count": 47,
   "id": "1deb0753",
   "metadata": {},
   "outputs": [],
   "source": [
    "X = merged_df[[\n",
    " 'brand',\n",
    " 'contract_type',\n",
    " 'leadtime_days',\n",
    " 'occupancy_current',\n",
    " 'occupancy_ly',\n",
    " 'vacation_1',\n",
    " 'vacation_2',\n",
    " 'vacation_3',\n",
    " 'is_covid_period',\n",
    " 'occ_delta',\n",
    " 'occ_delta1',\n",
    " 'occ_delta3',\n",
    " 'occ_delta7',\n",
    " 'occ_delta14',\n",
    " 'occ_delta30',\n",
    " 'weekday',\n",
    " 'weekofyear',\n",
    "    'OMXS30'\n",
    " ]]"
   ]
  },
  {
   "cell_type": "code",
   "execution_count": 48,
   "id": "36afde42",
   "metadata": {},
   "outputs": [],
   "source": [
    "X_train, X_test, y_train, y_test = train_test_split(X, y, test_size=0.3, random_state=101)"
   ]
  },
  {
   "cell_type": "code",
   "execution_count": 49,
   "id": "b83e80db",
   "metadata": {},
   "outputs": [],
   "source": [
    "from sklearn.linear_model import LinearRegression"
   ]
  },
  {
   "cell_type": "code",
   "execution_count": 50,
   "id": "fffcdff5",
   "metadata": {},
   "outputs": [],
   "source": [
    "lm = LinearRegression()"
   ]
  },
  {
   "cell_type": "code",
   "execution_count": null,
   "id": "c703b551",
   "metadata": {},
   "outputs": [],
   "source": []
  },
  {
   "cell_type": "code",
   "execution_count": 51,
   "id": "cea18b27",
   "metadata": {},
   "outputs": [
    {
     "data": {
      "text/html": [
       "<style>#sk-container-id-2 {color: black;}#sk-container-id-2 pre{padding: 0;}#sk-container-id-2 div.sk-toggleable {background-color: white;}#sk-container-id-2 label.sk-toggleable__label {cursor: pointer;display: block;width: 100%;margin-bottom: 0;padding: 0.3em;box-sizing: border-box;text-align: center;}#sk-container-id-2 label.sk-toggleable__label-arrow:before {content: \"▸\";float: left;margin-right: 0.25em;color: #696969;}#sk-container-id-2 label.sk-toggleable__label-arrow:hover:before {color: black;}#sk-container-id-2 div.sk-estimator:hover label.sk-toggleable__label-arrow:before {color: black;}#sk-container-id-2 div.sk-toggleable__content {max-height: 0;max-width: 0;overflow: hidden;text-align: left;background-color: #f0f8ff;}#sk-container-id-2 div.sk-toggleable__content pre {margin: 0.2em;color: black;border-radius: 0.25em;background-color: #f0f8ff;}#sk-container-id-2 input.sk-toggleable__control:checked~div.sk-toggleable__content {max-height: 200px;max-width: 100%;overflow: auto;}#sk-container-id-2 input.sk-toggleable__control:checked~label.sk-toggleable__label-arrow:before {content: \"▾\";}#sk-container-id-2 div.sk-estimator input.sk-toggleable__control:checked~label.sk-toggleable__label {background-color: #d4ebff;}#sk-container-id-2 div.sk-label input.sk-toggleable__control:checked~label.sk-toggleable__label {background-color: #d4ebff;}#sk-container-id-2 input.sk-hidden--visually {border: 0;clip: rect(1px 1px 1px 1px);clip: rect(1px, 1px, 1px, 1px);height: 1px;margin: -1px;overflow: hidden;padding: 0;position: absolute;width: 1px;}#sk-container-id-2 div.sk-estimator {font-family: monospace;background-color: #f0f8ff;border: 1px dotted black;border-radius: 0.25em;box-sizing: border-box;margin-bottom: 0.5em;}#sk-container-id-2 div.sk-estimator:hover {background-color: #d4ebff;}#sk-container-id-2 div.sk-parallel-item::after {content: \"\";width: 100%;border-bottom: 1px solid gray;flex-grow: 1;}#sk-container-id-2 div.sk-label:hover label.sk-toggleable__label {background-color: #d4ebff;}#sk-container-id-2 div.sk-serial::before {content: \"\";position: absolute;border-left: 1px solid gray;box-sizing: border-box;top: 0;bottom: 0;left: 50%;z-index: 0;}#sk-container-id-2 div.sk-serial {display: flex;flex-direction: column;align-items: center;background-color: white;padding-right: 0.2em;padding-left: 0.2em;position: relative;}#sk-container-id-2 div.sk-item {position: relative;z-index: 1;}#sk-container-id-2 div.sk-parallel {display: flex;align-items: stretch;justify-content: center;background-color: white;position: relative;}#sk-container-id-2 div.sk-item::before, #sk-container-id-2 div.sk-parallel-item::before {content: \"\";position: absolute;border-left: 1px solid gray;box-sizing: border-box;top: 0;bottom: 0;left: 50%;z-index: -1;}#sk-container-id-2 div.sk-parallel-item {display: flex;flex-direction: column;z-index: 1;position: relative;background-color: white;}#sk-container-id-2 div.sk-parallel-item:first-child::after {align-self: flex-end;width: 50%;}#sk-container-id-2 div.sk-parallel-item:last-child::after {align-self: flex-start;width: 50%;}#sk-container-id-2 div.sk-parallel-item:only-child::after {width: 0;}#sk-container-id-2 div.sk-dashed-wrapped {border: 1px dashed gray;margin: 0 0.4em 0.5em 0.4em;box-sizing: border-box;padding-bottom: 0.4em;background-color: white;}#sk-container-id-2 div.sk-label label {font-family: monospace;font-weight: bold;display: inline-block;line-height: 1.2em;}#sk-container-id-2 div.sk-label-container {text-align: center;}#sk-container-id-2 div.sk-container {/* jupyter's `normalize.less` sets `[hidden] { display: none; }` but bootstrap.min.css set `[hidden] { display: none !important; }` so we also need the `!important` here to be able to override the default hidden behavior on the sphinx rendered scikit-learn.org. See: https://github.com/scikit-learn/scikit-learn/issues/21755 */display: inline-block !important;position: relative;}#sk-container-id-2 div.sk-text-repr-fallback {display: none;}</style><div id=\"sk-container-id-2\" class=\"sk-top-container\"><div class=\"sk-text-repr-fallback\"><pre>LinearRegression()</pre><b>In a Jupyter environment, please rerun this cell to show the HTML representation or trust the notebook. <br />On GitHub, the HTML representation is unable to render, please try loading this page with nbviewer.org.</b></div><div class=\"sk-container\" hidden><div class=\"sk-item\"><div class=\"sk-estimator sk-toggleable\"><input class=\"sk-toggleable__control sk-hidden--visually\" id=\"sk-estimator-id-2\" type=\"checkbox\" checked><label for=\"sk-estimator-id-2\" class=\"sk-toggleable__label sk-toggleable__label-arrow\">LinearRegression</label><div class=\"sk-toggleable__content\"><pre>LinearRegression()</pre></div></div></div></div></div>"
      ],
      "text/plain": [
       "LinearRegression()"
      ]
     },
     "execution_count": 51,
     "metadata": {},
     "output_type": "execute_result"
    }
   ],
   "source": [
    "lm.fit(X_train,y_train)"
   ]
  },
  {
   "cell_type": "code",
   "execution_count": 52,
   "id": "cc83c325",
   "metadata": {},
   "outputs": [],
   "source": [
    "merged_df=merged_df.dropna()"
   ]
  },
  {
   "cell_type": "code",
   "execution_count": 53,
   "id": "ac7762c6",
   "metadata": {},
   "outputs": [],
   "source": [
    "predictions = lm.predict( X_test)"
   ]
  },
  {
   "cell_type": "code",
   "execution_count": 54,
   "id": "523bbfa7",
   "metadata": {},
   "outputs": [
    {
     "data": {
      "text/plain": [
       "Text(0, 0.5, 'Predicted Y')"
      ]
     },
     "execution_count": 54,
     "metadata": {},
     "output_type": "execute_result"
    },
    {
     "data": {
      "image/png": "[encoded data removed]",
      "text/plain": [
       "<Figure size 640x480 with 1 Axes>"
      ]
     },
     "metadata": {},
     "output_type": "display_data"
    }
   ],
   "source": [
    "plt.scatter(y_test,predictions)\n",
    "plt.xlabel('Y Test')\n",
    "plt.ylabel('Predicted Y')"
   ]
  },
  {
   "cell_type": "code",
   "execution_count": 55,
   "id": "30ffed7c",
   "metadata": {},
   "outputs": [
    {
     "name": "stdout",
     "output_type": "stream",
     "text": [
      "MAE: 0.020621820186114078\n",
      "MSE: 0.0007452806929903875\n",
      "RMSE: 0.027299829541416326\n"
     ]
    }
   ],
   "source": [
    "print('MAE:', metrics.mean_absolute_error(y_test, predictions))\n",
    "print('MSE:', metrics.mean_squared_error(y_test, predictions))\n",
    "print('RMSE:', np.sqrt(metrics.mean_squared_error(y_test, predictions)))"
   ]
  },
  {
   "cell_type": "code",
   "execution_count": 56,
   "id": "e0dab9f0",
   "metadata": {},
   "outputs": [
    {
     "data": {
      "text/html": [
       "<div>\n",
       "<style scoped>\n",
       "    .dataframe tbody tr th:only-of-type {\n",
       "        vertical-align: middle;\n",
       "    }\n",
       "\n",
       "    .dataframe tbody tr th {\n",
       "        vertical-align: top;\n",
       "    }\n",
       "\n",
       "    .dataframe thead th {\n",
       "        text-align: right;\n",
       "    }\n",
       "</style>\n",
       "<table border=\"1\" class=\"dataframe\">\n",
       "  <thead>\n",
       "    <tr style=\"text-align: right;\">\n",
       "      <th></th>\n",
       "      <th>Coeffecient</th>\n",
       "    </tr>\n",
       "  </thead>\n",
       "  <tbody>\n",
       "    <tr>\n",
       "      <th>brand</th>\n",
       "      <td>0.000000e+00</td>\n",
       "    </tr>\n",
       "    <tr>\n",
       "      <th>contract_type</th>\n",
       "      <td>8.434144e-15</td>\n",
       "    </tr>\n",
       "    <tr>\n",
       "      <th>leadtime_days</th>\n",
       "      <td>1.934988e-05</td>\n",
       "    </tr>\n",
       "    <tr>\n",
       "      <th>occupancy_current</th>\n",
       "      <td>1.213303e-01</td>\n",
       "    </tr>\n",
       "    <tr>\n",
       "      <th>occupancy_ly</th>\n",
       "      <td>8.430102e-01</td>\n",
       "    </tr>\n",
       "    <tr>\n",
       "      <th>vacation_1</th>\n",
       "      <td>-1.652006e-02</td>\n",
       "    </tr>\n",
       "    <tr>\n",
       "      <th>vacation_2</th>\n",
       "      <td>3.089310e-02</td>\n",
       "    </tr>\n",
       "    <tr>\n",
       "      <th>vacation_3</th>\n",
       "      <td>-1.602768e-03</td>\n",
       "    </tr>\n",
       "    <tr>\n",
       "      <th>is_covid_period</th>\n",
       "      <td>-1.665335e-16</td>\n",
       "    </tr>\n",
       "    <tr>\n",
       "      <th>occ_delta</th>\n",
       "      <td>6.140443e-01</td>\n",
       "    </tr>\n",
       "    <tr>\n",
       "      <th>occ_delta1</th>\n",
       "      <td>-9.302736e-02</td>\n",
       "    </tr>\n",
       "    <tr>\n",
       "      <th>occ_delta3</th>\n",
       "      <td>-9.571484e-03</td>\n",
       "    </tr>\n",
       "    <tr>\n",
       "      <th>occ_delta7</th>\n",
       "      <td>6.594195e-02</td>\n",
       "    </tr>\n",
       "    <tr>\n",
       "      <th>occ_delta14</th>\n",
       "      <td>1.587384e-01</td>\n",
       "    </tr>\n",
       "    <tr>\n",
       "      <th>occ_delta30</th>\n",
       "      <td>-1.838709e-01</td>\n",
       "    </tr>\n",
       "    <tr>\n",
       "      <th>weekday</th>\n",
       "      <td>6.771864e-04</td>\n",
       "    </tr>\n",
       "    <tr>\n",
       "      <th>weekofyear</th>\n",
       "      <td>7.752786e-04</td>\n",
       "    </tr>\n",
       "    <tr>\n",
       "      <th>OMXS30</th>\n",
       "      <td>-2.704226e-06</td>\n",
       "    </tr>\n",
       "  </tbody>\n",
       "</table>\n",
       "</div>"
      ],
      "text/plain": [
       "                    Coeffecient\n",
       "brand              0.000000e+00\n",
       "contract_type      8.434144e-15\n",
       "leadtime_days      1.934988e-05\n",
       "occupancy_current  1.213303e-01\n",
       "occupancy_ly       8.430102e-01\n",
       "vacation_1        -1.652006e-02\n",
       "vacation_2         3.089310e-02\n",
       "vacation_3        -1.602768e-03\n",
       "is_covid_period   -1.665335e-16\n",
       "occ_delta          6.140443e-01\n",
       "occ_delta1        -9.302736e-02\n",
       "occ_delta3        -9.571484e-03\n",
       "occ_delta7         6.594195e-02\n",
       "occ_delta14        1.587384e-01\n",
       "occ_delta30       -1.838709e-01\n",
       "weekday            6.771864e-04\n",
       "weekofyear         7.752786e-04\n",
       "OMXS30            -2.704226e-06"
      ]
     },
     "execution_count": 56,
     "metadata": {},
     "output_type": "execute_result"
    }
   ],
   "source": [
    "coeffecients = pd.DataFrame(lm.coef_,X.columns)\n",
    "coeffecients.columns = ['Coeffecient']\n",
    "coeffecients"
   ]
  },
  {
   "cell_type": "code",
   "execution_count": 57,
   "id": "88cf6d65",
   "metadata": {},
   "outputs": [],
   "source": [
    "import numpy as np # linear algebra\n",
    "import pandas as pd # data processing, CSV file I/O (e.g. pd.read_csv)\n",
    "\n",
    "from sklearn.model_selection import train_test_split\n",
    "import lightgbm\n",
    "from sklearn.metrics import roc_auc_score\n",
    "\n",
    "import matplotlib.pylab as plt"
   ]
  },
  {
   "cell_type": "code",
   "execution_count": 58,
   "id": "52810dc3",
   "metadata": {},
   "outputs": [],
   "source": [
    "y = merged_df['occupancy']"
   ]
  },
  {
   "cell_type": "code",
   "execution_count": 59,
   "id": "303b6d34",
   "metadata": {},
   "outputs": [],
   "source": [
    "X = merged_df[[\n",
    " 'brand',\n",
    " 'contract_type',\n",
    " 'leadtime_days',\n",
    " 'occupancy_current',\n",
    " 'occupancy_ly',\n",
    " 'vacation_1',\n",
    " 'vacation_2',\n",
    " 'vacation_3',\n",
    " 'is_covid_period',\n",
    " 'occ_delta',\n",
    " 'occ_delta1',\n",
    " 'occ_delta3',\n",
    " 'occ_delta7',\n",
    " 'occ_delta14',\n",
    " 'occ_delta30',\n",
    " 'weekday',\n",
    " 'weekofyear',\n",
    "    'OMXS30'\n",
    " ]]"
   ]
  },
  {
   "cell_type": "code",
   "execution_count": 60,
   "id": "dffac54a",
   "metadata": {},
   "outputs": [],
   "source": [
    "X_train, X_test, y_train, y_test = train_test_split(X, y, test_size=0.3, random_state=101)"
   ]
  },
  {
   "cell_type": "code",
   "execution_count": 61,
   "id": "8cee7b53",
   "metadata": {},
   "outputs": [
    {
     "data": {
      "text/plain": [
       "((61156, 18), (26211, 18), (61156,), (26211,))"
      ]
     },
     "execution_count": 61,
     "metadata": {},
     "output_type": "execute_result"
    }
   ],
   "source": [
    "X_train.shape, X_test.shape, y_train.shape, y_test.shape\n"
   ]
  },
  {
   "cell_type": "code",
   "execution_count": 62,
   "id": "cb32e80b",
   "metadata": {},
   "outputs": [],
   "source": [
    "train_data = lightgbm.Dataset(X_train, label=y_train)\n",
    "valid_data = lightgbm.Dataset(X_test, label=y_test)"
   ]
  },
  {
   "cell_type": "code",
   "execution_count": 63,
   "id": "69d0b578",
   "metadata": {},
   "outputs": [],
   "source": [
    "parameters = {'objective': 'binary',\n",
    "              'metric': 'auc',\n",
    "              'is_unbalance': 'true',\n",
    "              'boosting': 'gbdt',\n",
    "              'num_leaves': 63,\n",
    "              'feature_fraction': 0.5,\n",
    "              'bagging_fraction': 0.5,\n",
    "              'bagging_freq': 20,\n",
    "              'learning_rate': 0.01,\n",
    "              'verbose': -1\n",
    "             }"
   ]
  },
  {
   "cell_type": "code",
   "execution_count": 64,
   "id": "fbcf0bac",
   "metadata": {},
   "outputs": [],
   "source": [
    "model_lgbm = lightgbm.train(parameters,\n",
    "                            train_data,\n",
    "                            valid_sets=valid_data,\n",
    "                            num_boost_round=5000,\n",
    "                            )"
   ]
  },
  {
   "cell_type": "code",
   "execution_count": 65,
   "id": "c4be8928",
   "metadata": {},
   "outputs": [],
   "source": [
    "y_train_pred = model_lgbm.predict(X_train)\n",
    "y_valid_pred = model_lgbm.predict(X_test)\n",
    "\n"
   ]
  },
  {
   "cell_type": "code",
   "execution_count": 73,
   "id": "4e50f7eb",
   "metadata": {},
   "outputs": [
    {
     "name": "stdout",
     "output_type": "stream",
     "text": [
      "[LightGBM] [Info] Auto-choosing row-wise multi-threading, the overhead of testing was 0.012996 seconds.\n",
      "You can set `force_row_wise=true` to remove the overhead.\n",
      "And if memory is not enough, you can set `force_col_wise=true`.\n",
      "[LightGBM] [Info] Total Bins 2604\n",
      "[LightGBM] [Info] Number of data points in the train set: 69893, number of used features: 15\n",
      "[LightGBM] [Info] Start training from score 0.215630\n",
      "Training until validation scores don't improve for 3 rounds\n",
      "Did not meet early stopping. Best iteration is:\n",
      "[1000]\tvalid_0's rmse: 0.000170996\n",
      "Root Mean Squared Error: 0.00017099652618338164\n"
     ]
    }
   ],
   "source": [
    "import pandas as pd\n",
    "import lightgbm as lgb\n",
    "from sklearn.model_selection import train_test_split\n",
    "from sklearn.metrics import mean_squared_error\n",
    "\n",
    "# Assuming merged_df is already defined and cleaned\n",
    "\n",
    "# Define X and y\n",
    "X = merged_df[[\n",
    "    'brand', 'contract_type', 'leadtime_days', 'occupancy_current', 'occupancy_ly',\n",
    "    'vacation_1', 'vacation_2', 'vacation_3', 'is_covid_period', 'occ_delta',\n",
    "    'occ_delta1', 'occ_delta3', 'occ_delta7', 'occ_delta14', 'occ_delta30',\n",
    "    'weekday', 'weekofyear', 'OMXS30'\n",
    "]]\n",
    "y = merged_df['occupancy']\n",
    "\n",
    "# Split the data into training and test sets\n",
    "X_train, X_test, y_train, y_test = train_test_split(X, y, test_size=0.2, random_state=42)\n",
    "\n",
    "# Create the LightGBM datasets\n",
    "train_data = lgb.Dataset(X_train, label=y_train)\n",
    "valid_data = lgb.Dataset(X_test, label=y_test)\n",
    "\n",
    "# Define the parameters\n",
    "params = {\n",
    "    'objective': 'regression',\n",
    "    'metric': 'rmse',\n",
    "    'boosting_type': 'gbdt',\n",
    "    'learning_rate': 0.05,\n",
    "    'num_leaves': 31,\n",
    "    'max_depth': -1,\n",
    "    'min_data_in_leaf': 20\n",
    "}\n",
    "\n",
    "# Train the model with early stopping\n",
    "lgbm_model = lgb.train(\n",
    "    params,\n",
    "    train_data,\n",
    "    valid_sets=[valid_data],\n",
    "    num_boost_round=1000,\n",
    "    callbacks=[\n",
    "        lgb.early_stopping(stopping_rounds=3),\n",
    "    ]\n",
    ")\n",
    "\n",
    "# Make predictions\n",
    "y_pred = lgbm_model.predict(X_test, num_iteration=lgbm_model.best_iteration)\n",
    "\n",
    "# Calculate the mean squared error\n",
    "mse = mean_squared_error(y_test, y_pred)\n",
    "rmse = mse ** 0.5\n",
    "\n",
    "print(f'Root Mean Squared Error: {rmse}')\n"
   ]
  },
  {
   "cell_type": "code",
   "execution_count": 74,
   "id": "412a4a44",
   "metadata": {},
   "outputs": [
    {
     "name": "stdout",
     "output_type": "stream",
     "text": [
      "[LightGBM] [Info] Auto-choosing col-wise multi-threading, the overhead of testing was 0.005530 seconds.\n",
      "You can set `force_col_wise=true` to remove the overhead.\n",
      "[LightGBM] [Info] Total Bins 2364\n",
      "[LightGBM] [Info] Number of data points in the train set: 69893, number of used features: 14\n",
      "[LightGBM] [Info] Start training from score 0.215630\n",
      "Training until validation scores don't improve for 3 rounds\n",
      "Did not meet early stopping. Best iteration is:\n",
      "[1000]\tvalid_0's rmse: 0.000163103\n",
      "Root Mean Squared Error: 0.00016310351366300777\n"
     ]
    }
   ],
   "source": [
    "X = merged_df[[\n",
    "    'brand', 'contract_type', 'leadtime_days', 'occupancy_current', 'occupancy_ly',\n",
    "    'vacation_1', 'vacation_2', 'vacation_3', 'is_covid_period', 'occ_delta',\n",
    "    'occ_delta1', 'occ_delta3', 'occ_delta7', 'occ_delta14', 'occ_delta30',\n",
    "    'weekday', 'weekofyear'\n",
    "]]\n",
    "y = merged_df['occupancy']\n",
    "\n",
    "# Split the data into training and test sets\n",
    "X_train, X_test, y_train, y_test = train_test_split(X, y, test_size=0.2, random_state=42)\n",
    "\n",
    "# Create the LightGBM datasets\n",
    "train_data = lgb.Dataset(X_train, label=y_train)\n",
    "valid_data = lgb.Dataset(X_test, label=y_test)\n",
    "\n",
    "# Define the parameters\n",
    "params = {\n",
    "    'objective': 'regression',\n",
    "    'metric': 'rmse',\n",
    "    'boosting_type': 'gbdt',\n",
    "    'learning_rate': 0.05,\n",
    "    'num_leaves': 31,\n",
    "    'max_depth': -1,\n",
    "    'min_data_in_leaf': 20\n",
    "}\n",
    "\n",
    "# Train the model with early stopping\n",
    "lgbm_model = lgb.train(\n",
    "    params,\n",
    "    train_data,\n",
    "    valid_sets=[valid_data],\n",
    "    num_boost_round=1000,\n",
    "    callbacks=[\n",
    "        lgb.early_stopping(stopping_rounds=3),\n",
    "    ]\n",
    ")\n",
    "\n",
    "# Make predictions\n",
    "y_pred = lgbm_model.predict(X_test, num_iteration=lgbm_model.best_iteration)\n",
    "\n",
    "# Calculate the mean squared error\n",
    "mse = mean_squared_error(y_test, y_pred)\n",
    "rmse = mse ** 0.5\n",
    "\n",
    "print(f'Root Mean Squared Error: {rmse}')\n"
   ]
  },
  {
   "cell_type": "code",
   "execution_count": null,
   "id": "6e3c0d76",
   "metadata": {},
   "outputs": [],
   "source": []
  }
 ],
 "metadata": {
  "kernelspec": {
   "display_name": "Python 3 (ipykernel)",
   "language": "python",
   "name": "python3"
  },
  "language_info": {
   "codemirror_mode": {
    "name": "ipython",
    "version": 3
   },
   "file_extension": ".py",
   "mimetype": "text/x-python",
   "name": "python",
   "nbconvert_exporter": "python",
   "pygments_lexer": "ipython3",
   "version": "3.11.5"
  }
 },
 "nbformat": 4,
 "nbformat_minor": 5
}
